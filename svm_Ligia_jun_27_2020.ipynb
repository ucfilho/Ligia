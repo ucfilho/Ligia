{
  "nbformat": 4,
  "nbformat_minor": 0,
  "metadata": {
    "colab": {
      "name": "svm_Ligia_jun_27_2020.ipynb",
      "provenance": [],
      "authorship_tag": "ABX9TyMQvQrbv7TG+K7y2ucdL9Dm",
      "include_colab_link": true
    },
    "kernelspec": {
      "name": "python3",
      "display_name": "Python 3"
    }
  },
  "cells": [
    {
      "cell_type": "markdown",
      "metadata": {
        "id": "view-in-github",
        "colab_type": "text"
      },
      "source": [
        "<a href=\"https://colab.research.google.com/github/ucfilho/Ligia/blob/master/svm_Ligia_jun_27_2020.ipynb\" target=\"_parent\"><img src=\"https://colab.research.google.com/assets/colab-badge.svg\" alt=\"Open In Colab\"/></a>"
      ]
    },
    {
      "cell_type": "code",
      "metadata": {
        "id": "3oZSsUI5rE9B",
        "colab_type": "code",
        "colab": {}
      },
      "source": [
        "## Divisao treino–teste\n",
        "df_feat = dataset\n",
        "df_target = c lasses\n",
        "from sklearn.model_selection import\n",
        "train_test_split\n",
        "X_train , X_test , y_train , y_test =train_test_split ( df_feat , np.ravel( df_target ) ,test_size=0.30 , random_state=101)\n",
        "# Treinando o Support Vector C l a s s i f i e r\n",
        "from sklearn .svm import SVC\n",
        "model = SVC( )\n",
        "model.fit(X_train , y_train )\n",
        "predictions = model.predict(X_test )\n",
        "from sklearn.metrics import classification_report ,confusion_matrix\n",
        "\n",
        "param_grid = { 'C' : [0 . 1 , 1 , 10 , 100 , 1000] , 'gamma': [1 ,0 .1 ,0 .01 ,0 .001 ,0 .0001] , 'kernel' : [ 'rbf']}\n",
        "\n",
        "from sklearn .model_selection import GridSearchCV\n",
        "grid = GridSearchCV(SVC( ) ,param_grid , refit=True ,verbose=3)\n",
        "grid.fit(X_train , y_train )\n",
        "grid.best_params_grid.best_estimator_grid_predictions = grid . pred ict (X_test )\n",
        "print('\\n')\n",
        "print( 'SVM SEM NORMALIZACAO– ')\n",
        "print('\\n')\n",
        "print( '–MATRIZ CONFUSAO – TABELA I I I' )\n",
        "print('\\n')\n",
        "print( confusion_matrix( y_test , grid_predictions ) )\n",
        "print('\\n')\n",
        "print( '–RELATORIO DE CLASSSIFICACAO – TABELA I I ' )\n",
        "print('\\n')\n",
        "print ( classification_report( y_test ,grid_predictions ) )\n"
      ],
      "execution_count": null,
      "outputs": []
    }
  ]
}